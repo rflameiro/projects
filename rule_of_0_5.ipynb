{
 "cells": [
  {
   "cell_type": "markdown",
   "metadata": {},
   "source": [
    "## Rule of 0.5\n",
    "\n",
    "**Purpose**\n",
    "\n",
    "It has been proposed that \"*when encoded using the public MDL MACCS keys, more than 90% of individual marketed drugs obey a ‘rule of 0.5’ mnemonic... a successful drug is likely to lie within a Tanimoto distance of 0.5 of a known human metabolite*\".\n",
    "\n",
    "This notebook provides a function that performs a similarity comparison based on Tanimoto distances of the MACCS Keys of a provided chemical structure and a dataset of human metabolites from the *Human Metabolome Database*. If the structure is within a distance of 0.5 of any metabolite present in the dataset, it is regarded as metabolite-like.\n",
    "\n",
    "**Sources:**\n",
    "\n",
    "[1] Dobson PD, Patel Y, Kell DB. 'Metabolite-likeness' as a criterion in the design and selection of pharmaceutical drug libraries. **Drug Discov Today**. 2009 Jan;14(1-2):31-40. doi:10.1016/j.drudis.2008.10.011\n",
    "\n",
    "[2] O Hagan S, Swainston N, Handl J, Kell DB. A 'rule of 0.5' for the metabolite-likeness of approved pharmaceutical drugs. **Metabolomics**. 2015;11(2):323-339. doi:10.1007/s11306-014-0733-z\n",
    "\n",
    "[3] Wishart DS, Feunang YD, Marcu A, Guo AC, Liang K, Vázquez-Fresno R, Sajed T, Johnson D, Li C, Karu N, Sayeeda Z, Lo E, Assempour N, Berjanskii M, Singhal S, Arndt D, Liang Y, Badran H, Grant J, Serra-Cayuela A, Liu Y, Mandal R, Neveu V, Pon A, Knox C, Wilson M, Manach C, Scalbert A. HMDB 4.0: the human metabolome database for 2018. **Nucleic Acids Res**. 2018 Jan 4;46(D1):D608-D617. doi:10.1093/nar/gkx1089"
   ]
  },
  {
   "cell_type": "markdown",
   "metadata": {},
   "source": [
    "**Dataset details:**\n",
    "   - Source: https://hmdb.ca/downloads\n",
    "   - Name: Metabolite Structures \n",
    "   - Format: .sdf\n",
    "   - Released on: 09/07/2018\n",
    "   - File Size: 46.3 MB\n",
    "   - Number of structures: 113983\n",
    "   - Downloaded on: 25/02/2021"
   ]
  },
  {
   "cell_type": "markdown",
   "metadata": {},
   "source": [
    "### Import datasets"
   ]
  },
  {
   "cell_type": "code",
   "execution_count": 1,
   "metadata": {},
   "outputs": [
    {
     "name": "stdout",
     "output_type": "stream",
     "text": [
      "rdkit: 2020.03.2\n",
      "Python: 3.7.7 (default, May  6 2020, 11:45:54) [MSC v.1916 64 bit (AMD64)]\n"
     ]
    }
   ],
   "source": [
    "import rdkit\n",
    "print('rdkit: {}'.format(rdkit.__version__))\n",
    "import sys\n",
    "print('Python: {}'.format(sys.version))\n",
    "from rdkit import Chem\n",
    "from rdkit import DataStructs\n",
    "from rdkit.Chem import MACCSkeys\n",
    "from rdkit.Chem import SDMolSupplier"
   ]
  },
  {
   "cell_type": "markdown",
   "metadata": {},
   "source": [
    "### Import Human Metabolome Database"
   ]
  },
  {
   "cell_type": "code",
   "execution_count": 2,
   "metadata": {},
   "outputs": [
    {
     "name": "stdout",
     "output_type": "stream",
     "text": [
      "Number of metabolites in database: 113983\n"
     ]
    }
   ],
   "source": [
    "suppl = SDMolSupplier(r\"datasets/hmdb_25-02-2021.sdf\")\n",
    "print(f\"Number of metabolites in database: {len(suppl)}\")"
   ]
  },
  {
   "cell_type": "markdown",
   "metadata": {},
   "source": [
    "### Verifying rule of 0.5 compliance\n",
    "\n",
    "Let's test a known compound (imatinib) for metabolite-likeness.\n",
    "\n",
    "If you wish to test a different compound, modify the `smiles_compound` variable below."
   ]
  },
  {
   "cell_type": "code",
   "execution_count": 3,
   "metadata": {},
   "outputs": [
    {
     "data": {
      "image/png": "[encoded data removed]",
      "text/plain": [
       "<rdkit.Chem.rdchem.Mol at 0x27443079620>"
      ]
     },
     "execution_count": 3,
     "metadata": {},
     "output_type": "execute_result"
    }
   ],
   "source": [
    "# Test compound: imatinib\n",
    "smiles_compound = \"CC1=C(C=C(C=C1)NC(=O)C2=CC=C(C=C2)CN3CCN(CC3)C)NC4=NC=CC(=N4)C5=CN=CC=C5\"  # modify this to test a different compound\n",
    "maccs_compound = MACCSkeys.GenMACCSKeys(Chem.MolFromSmiles(smiles_compound))\n",
    "structure_compound = Chem.MolFromSmiles(smiles_compound)\n",
    "structure_compound"
   ]
  },
  {
   "cell_type": "markdown",
   "metadata": {},
   "source": [
    "The function below allows you to find the first metabolite that matches the Rule of 0.5 for your target compound."
   ]
  },
  {
   "cell_type": "code",
   "execution_count": 4,
   "metadata": {},
   "outputs": [],
   "source": [
    "def find_similar_metabolite(target_maccs, database):\n",
    "    for mol in database:\n",
    "        if mol is None:\n",
    "            continue\n",
    "        if DataStructs.FingerprintSimilarity(target_maccs, MACCSkeys.GenMACCSKeys(mol)) >= 0.5:\n",
    "            print(f\"Compound follows rule of 0.5\") \n",
    "            print(\"Structure of the similar metabolite:\")\n",
    "            return rdkit.Chem.Draw.MolToImage(mol, size=(400, 250))\n",
    "    else:\n",
    "        print(\"Compound fails rule of 0.5 and is not metabolite-like.\")\n",
    "        return"
   ]
  },
  {
   "cell_type": "code",
   "execution_count": 5,
   "metadata": {},
   "outputs": [
    {
     "name": "stdout",
     "output_type": "stream",
     "text": [
      "Compound follows rule of 0.5\n",
      "Structure of the similar metabolite:\n"
     ]
    },
    {
     "data": {
      "image/png": "[encoded data removed]",
      "text/plain": [
       "<PIL.PngImagePlugin.PngImageFile image mode=RGB size=400x250 at 0x27443081908>"
      ]
     },
     "execution_count": 5,
     "metadata": {},
     "output_type": "execute_result"
    }
   ],
   "source": [
    "find_similar_metabolite(maccs_compound, suppl)"
   ]
  },
  {
   "cell_type": "code",
   "execution_count": null,
   "metadata": {},
   "outputs": [],
   "source": []
  }
 ],
 "metadata": {
  "kernelspec": {
   "display_name": "Python 3",
   "language": "python",
   "name": "python3"
  },
  "language_info": {
   "codemirror_mode": {
    "name": "ipython",
    "version": 3
   },
   "file_extension": ".py",
   "mimetype": "text/x-python",
   "name": "python",
   "nbconvert_exporter": "python",
   "pygments_lexer": "ipython3",
   "version": "3.7.7"
  }
 },
 "nbformat": 4,
 "nbformat_minor": 4
}
