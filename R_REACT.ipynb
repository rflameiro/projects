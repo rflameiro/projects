{
 "cells": [
  {
   "cell_type": "markdown",
   "id": "2442efc9-8102-4b48-a400-e773be5576eb",
   "metadata": {},
   "source": [
    "# REACT\n",
    "\n",
    "REACT is a framework that combines equivalence testing (evaluating both practical significance and statistical significance) and three-way testing (allowing for a hypothesis to be accepted, rejected or for the user to remain undecided/agnostic) as a replacement for Null Hypothesis Significance Testing (NHST). \n",
    "\n",
    "The REACT framework consists in the following steps:\n",
    "\n",
    "1. Establish the null hypothesis by defining a region of equivalence, which is a range of values that are considered to be practically equivalent to the value to be tested. This demands the definition of a \"smallest effect size of interest\" $Δ$ so that $𝐻_0 : |μ_A − μ_B| ≤ Δ$. For simplicity,  assume that the null hypothesis has the shape $𝐻_0 : |φ| ≤ Δ$\n",
    "2. Build a confidence set for the parameter of interest, φ, which is a region that contains values that are consistent with the observed data.\n",
    "3. Test the null hypothesis using a three-way rule: accept the null hypothesis if the confidence set is entirely within the region of equivalence, reject the null hypothesis if the confidence set is entirely outside the region of equivalence, and remain agnostic otherwise.\n",
    "\n",
    "In short, the smallest effect size of interest is the smallest effect that (1) researchers personally care about, (2) is theoretically interesting, or (3) has practical relevance\n",
    "\n",
    "Preprint: [REACT: Region of Equivalence Agnostic Confidence-based Test](https://arxiv.org/pdf/2308.09112.pdf)"
   ]
  },
  {
   "cell_type": "markdown",
   "id": "974f0db5-958e-44d5-96bf-48e69cf7f629",
   "metadata": {},
   "source": [
    "## Working on jupyter lab\n",
    "\n",
    "Run the following on your Anaconda prompt:\n",
    "\n",
    "```\n",
    "conda create -n react_env -c conda-forge r-base r-devtools\n",
    "conda install -c conda-forge jupyterlab\n",
    "conda install -c conda-forge r-irkernel\n",
    "conda install -c r rtools\n",
    "```\n",
    "\n",
    "Then run \n",
    "\n",
    "```\n",
    "conda activate react_env\n",
    "jupyter lab\n",
    "```\n",
    "\n",
    "and find this Notebook.\n"
   ]
  },
  {
   "cell_type": "code",
   "execution_count": null,
   "id": "54824e0a-6ea3-4bd2-8177-9489aeb16e99",
   "metadata": {
    "scrolled": true
   },
   "outputs": [],
   "source": [
    "devtools::install_github(\"Monoxido45/REACT\", force=TRUE)"
   ]
  },
  {
   "cell_type": "code",
   "execution_count": 2,
   "id": "54c6c78d-19cb-4eb6-a8b1-b34a9515f63a",
   "metadata": {},
   "outputs": [
    {
     "data": {
      "text/plain": [
       "R version 4.1.3 (2022-03-10)\n",
       "Platform: x86_64-w64-mingw32/x64 (64-bit)\n",
       "Running under: Windows 10 x64 (build 19045)\n",
       "\n",
       "Matrix products: default\n",
       "\n",
       "locale:\n",
       "[1] LC_COLLATE=Portuguese_Brazil.1252  LC_CTYPE=Portuguese_Brazil.1252   \n",
       "[3] LC_MONETARY=Portuguese_Brazil.1252 LC_NUMERIC=C                      \n",
       "[5] LC_TIME=Portuguese_Brazil.1252    \n",
       "\n",
       "attached base packages:\n",
       "[1] stats     graphics  grDevices utils     datasets  methods   base     \n",
       "\n",
       "loaded via a namespace (and not attached):\n",
       " [1] Rcpp_1.0.11       urlchecker_1.0.1  pillar_1.9.0      compiler_4.1.3   \n",
       " [5] later_1.3.1       remotes_2.4.2     profvis_0.3.8     prettyunits_1.2.0\n",
       " [9] base64enc_0.1-3   tools_4.1.3       digest_0.6.33     pkgbuild_1.4.2   \n",
       "[13] uuid_1.1-1        pkgload_1.3.3     jsonlite_1.8.7    evaluate_0.23    \n",
       "[17] memoise_2.0.1     lifecycle_1.0.4   rlang_1.1.1       IRdisplay_1.1    \n",
       "[21] shiny_1.7.4       cli_3.6.1         curl_4.3.3        IRkernel_1.3.2   \n",
       "[25] fastmap_1.1.1     stringr_1.5.1     repr_1.1.6        desc_1.4.2       \n",
       "[29] htmlwidgets_1.6.2 fs_1.6.3          vctrs_0.6.3       devtools_2.4.5   \n",
       "[33] rprojroot_2.0.4   glue_1.6.2        R6_2.5.1          processx_3.8.2   \n",
       "[37] fansi_1.0.4       sessioninfo_1.2.2 pbdZMQ_0.3-10     purrr_1.0.2      \n",
       "[41] callr_3.7.3       magrittr_2.0.3    usethis_2.2.0     promises_1.2.1   \n",
       "[45] ps_1.7.5          ellipsis_0.3.2    htmltools_0.5.6   mime_0.12        \n",
       "[49] xtable_1.8-4      httpuv_1.6.11     utf8_1.2.3        stringi_1.7.12   \n",
       "[53] miniUI_0.1.1.1    cachem_1.0.8      crayon_1.5.2     "
      ]
     },
     "metadata": {},
     "output_type": "display_data"
    }
   ],
   "source": [
    "sessionInfo()"
   ]
  },
  {
   "cell_type": "code",
   "execution_count": 3,
   "id": "bf06a1b8-b48c-4d1b-95ae-51558542557c",
   "metadata": {},
   "outputs": [],
   "source": [
    "library(REACT)"
   ]
  },
  {
   "cell_type": "code",
   "execution_count": 4,
   "id": "17a45e9d-a67a-4266-b8c2-a6a978712898",
   "metadata": {},
   "outputs": [
    {
     "name": "stdout",
     "output_type": "stream",
     "text": [
      "REACT results:\n",
      "Pragmatic lower bound:  -1.50\n",
      "Pragmatic upper bound:  1.50\n",
      "Confidence interval:\n",
      "lower bound: -0.55\n",
      "upper bound: 0.598\n",
      "REACT conclusion:\n"
     ]
    },
    {
     "name": "stderr",
     "output_type": "stream",
     "text": [
      "Based on the provided confidence interval we accept the null hypothesis.\n",
      "\n"
     ]
    }
   ],
   "source": [
    "## REACT t-test\n",
    "\n",
    "set.seed(125)\n",
    "obs1 <- rnorm(n = 30, mean = 1)\n",
    "obs2 <- rnorm(n = 30, mean = 1.1)\n",
    "\n",
    "# building confidence set\n",
    "ci <- t.test(obs1, obs2, var.equal=TRUE, conf.level = 0.95)$conf.int\n",
    "# tolerance\n",
    "tol <- 1.5\n",
    "\n",
    "# performing base test and getting the output\n",
    "test <- base_test(ci, tol = 1.5, hyp = 0, verbose = TRUE)\n",
    "#> REACT results:\n",
    "#> Pragmatic lower bound:  -1.50\n",
    "#> Pragmatic upper bound:  1.50\n",
    "#> Confidence interval:\n",
    "#> lower bound: -0.55\n",
    "#> upper bound: 0.598\n",
    "#> REACT conclusion:\n",
    "#> Based on the provided confidence interval we accept the null hypothesis."
   ]
  },
  {
   "cell_type": "code",
   "execution_count": null,
   "id": "f6202f9e-068f-4a10-9950-e929ce1c8ef6",
   "metadata": {},
   "outputs": [],
   "source": []
  }
 ],
 "metadata": {
  "kernelspec": {
   "display_name": "R",
   "language": "R",
   "name": "ir"
  },
  "language_info": {
   "codemirror_mode": "r",
   "file_extension": ".r",
   "mimetype": "text/x-r-source",
   "name": "R",
   "pygments_lexer": "r",
   "version": "4.1.3"
  }
 },
 "nbformat": 4,
 "nbformat_minor": 5
}
